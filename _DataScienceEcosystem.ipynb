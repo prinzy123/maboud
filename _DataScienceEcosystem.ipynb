{
 "cells": [
  {
   "cell_type": "markdown",
   "id": "d642fc86-f8e8-4f46-8792-e334b46aee9d",
   "metadata": {},
   "source": [
    "Data Science Tools and Ecosystem\n"
   ]
  },
  {
   "cell_type": "markdown",
   "id": "38bfcd36-5330-44ce-9091-2804f1ef748a",
   "metadata": {},
   "source": [
    "In this notebook, Data Science Tools and Ecosystem are summarized."
   ]
  },
  {
   "cell_type": "markdown",
   "id": "746f2469-cefa-485b-b294-e3d1ec72da4e",
   "metadata": {},
   "source": [
    "Some of the popular languages that Data Scientists use are:\n",
    "\n",
    "Python \n",
    "RStudio\n",
    "Julia \n",
    "Java \n",
    "Css "
   ]
  },
  {
   "cell_type": "markdown",
   "id": "b2a46326-e76e-4eeb-b834-d3905ca7d226",
   "metadata": {},
   "source": [
    "Some of the commonly used libraries used by Data Scientists include:\n",
    "\n",
    "Numpy, Pandas . Matplotlib, Scikit, Tensorflow "
   ]
  },
  {
   "cell_type": "code",
   "execution_count": null,
   "id": "af535b71-1314-4040-a6c4-9d686d94096d",
   "metadata": {},
   "outputs": [],
   "source": []
  },
  {
   "cell_type": "markdown",
   "id": "140dd581-6176-417f-bf1e-5c5ac7fa0491",
   "metadata": {},
   "source": [
    "Data Science Tools:\n",
    "Python, pandas, Scikit-learn, TensorFlow, Jupyter Notebook."
   ]
  },
  {
   "cell_type": "code",
   "execution_count": null,
   "id": "ea026a45-f882-479c-bca0-01c3f5ef567e",
   "metadata": {},
   "outputs": [],
   "source": []
  },
  {
   "cell_type": "markdown",
   "id": "294fbea3-59fa-491d-b7bf-abe1423fd47c",
   "metadata": {},
   "source": [
    "Below are a few examples of evaluating arithmetic expressions in Python"
   ]
  },
  {
   "cell_type": "code",
   "execution_count": 2,
   "id": "e76a6b74-1c6d-442d-af9c-72abbbf16999",
   "metadata": {},
   "outputs": [
    {
     "data": {
      "text/plain": [
       "17"
      ]
     },
     "execution_count": 2,
     "metadata": {},
     "output_type": "execute_result"
    }
   ],
   "source": [
    "(3*4)+5"
   ]
  },
  {
   "cell_type": "code",
   "execution_count": 3,
   "id": "66140921-bb2a-4626-975d-8bfe494a75c5",
   "metadata": {},
   "outputs": [],
   "source": [
    "#This a simple arithmetic expression to mutiply then add integers\n"
   ]
  },
  {
   "cell_type": "code",
   "execution_count": 5,
   "id": "0666e6fb-80ec-48de-a6a4-5e63cde8be86",
   "metadata": {},
   "outputs": [
    {
     "name": "stdout",
     "output_type": "stream",
     "text": [
      "3.3333333333333335\n"
     ]
    }
   ],
   "source": [
    "Hours = 200/60\n",
    "print(Hours)\n",
    "\n",
    "#This will convert 200 minutes to hours by diving by 60"
   ]
  },
  {
   "cell_type": "code",
   "execution_count": null,
   "id": "28b95d43-f125-46b9-ac8e-a5fcc74183ae",
   "metadata": {},
   "outputs": [],
   "source": []
  },
  {
   "cell_type": "markdown",
   "id": "0ee26347-794c-4d1a-a92a-b0632203c907",
   "metadata": {},
   "source": [
    "**Objectives:**\n",
    "\n",
    "- List popular languages for Data Science  \n",
    "- Understand essential tools and libraries used in data analysis  \n",
    "- Perform data manipulation using pandas  \n",
    "- Visualize data using Matplotlib and Seaborn  \n",
    "- Build and evaluate basic machine learning models  \n"
   ]
  },
  {
   "cell_type": "code",
   "execution_count": null,
   "id": "644a67c4-cbfe-4470-8487-2f19db6fe527",
   "metadata": {},
   "outputs": [],
   "source": []
  },
  {
   "cell_type": "markdown",
   "id": "060f007c-3be1-4a5b-8ccc-ea50559a6fa1",
   "metadata": {},
   "source": [
    "## Author\n",
    "\n",
    "Mabood Mohammad\n"
   ]
  },
  {
   "cell_type": "code",
   "execution_count": null,
   "id": "342044f9-1d3c-4ff2-a9d8-732fdb2528d5",
   "metadata": {},
   "outputs": [],
   "source": []
  }
 ],
 "metadata": {
  "kernelspec": {
   "display_name": "Python 3 (ipykernel)",
   "language": "python",
   "name": "python3"
  },
  "language_info": {
   "codemirror_mode": {
    "name": "ipython",
    "version": 3
   },
   "file_extension": ".py",
   "mimetype": "text/x-python",
   "name": "python",
   "nbconvert_exporter": "python",
   "pygments_lexer": "ipython3",
   "version": "3.12.7"
  }
 },
 "nbformat": 4,
 "nbformat_minor": 5
}
